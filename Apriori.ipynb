{
  "nbformat": 4,
  "nbformat_minor": 0,
  "metadata": {
    "colab": {
      "provenance": []
    },
    "kernelspec": {
      "name": "python3",
      "display_name": "Python 3"
    },
    "language_info": {
      "name": "python"
    }
  },
  "cells": [
    {
      "cell_type": "code",
      "execution_count": null,
      "metadata": {
        "id": "R9XZX5V4Tx5K"
      },
      "outputs": [],
      "source": [
        "import pandas as pd\n",
        "import numpy as np\n",
        "from itertools import combinations"
      ]
    },
    {
      "cell_type": "code",
      "source": [
        "from google.colab import drive\n",
        "drive.mount('/content/drive')"
      ],
      "metadata": {
        "colab": {
          "base_uri": "https://localhost:8080/"
        },
        "id": "W9q6SgS4Vrcd",
        "outputId": "5a2f4b83-88d6-4261-db70-57e431a1189a"
      },
      "execution_count": null,
      "outputs": [
        {
          "output_type": "stream",
          "name": "stdout",
          "text": [
            "Drive already mounted at /content/drive; to attempt to forcibly remount, call drive.mount(\"/content/drive\", force_remount=True).\n"
          ]
        }
      ]
    },
    {
      "cell_type": "code",
      "source": [
        "df = pd.read_csv(\"/content/drive/MyDrive/test1.csv\", low_memory=False)"
      ],
      "metadata": {
        "id": "zwxKKWwzUm3l"
      },
      "execution_count": null,
      "outputs": []
    },
    {
      "cell_type": "code",
      "source": [
        "df.head()"
      ],
      "metadata": {
        "colab": {
          "base_uri": "https://localhost:8080/",
          "height": 206
        },
        "id": "w6ZwtaV0WJ68",
        "outputId": "655303f5-dc15-476d-feef-7b7a68b61ef3"
      },
      "execution_count": null,
      "outputs": [
        {
          "output_type": "execute_result",
          "data": {
            "text/plain": [
              "  handphone laptop charger powerbank tablet\n",
              "0         t      t     NaN       NaN    NaN\n",
              "1         t      t       t       NaN    NaN\n",
              "2         t      t       t         t    NaN\n",
              "3         t      t     NaN       NaN      t\n",
              "4         t    NaN       t       NaN      t"
            ],
            "text/html": [
              "\n",
              "  <div id=\"df-0aef913c-b376-44b9-a553-c9f94d3b8db8\" class=\"colab-df-container\">\n",
              "    <div>\n",
              "<style scoped>\n",
              "    .dataframe tbody tr th:only-of-type {\n",
              "        vertical-align: middle;\n",
              "    }\n",
              "\n",
              "    .dataframe tbody tr th {\n",
              "        vertical-align: top;\n",
              "    }\n",
              "\n",
              "    .dataframe thead th {\n",
              "        text-align: right;\n",
              "    }\n",
              "</style>\n",
              "<table border=\"1\" class=\"dataframe\">\n",
              "  <thead>\n",
              "    <tr style=\"text-align: right;\">\n",
              "      <th></th>\n",
              "      <th>handphone</th>\n",
              "      <th>laptop</th>\n",
              "      <th>charger</th>\n",
              "      <th>powerbank</th>\n",
              "      <th>tablet</th>\n",
              "    </tr>\n",
              "  </thead>\n",
              "  <tbody>\n",
              "    <tr>\n",
              "      <th>0</th>\n",
              "      <td>t</td>\n",
              "      <td>t</td>\n",
              "      <td>NaN</td>\n",
              "      <td>NaN</td>\n",
              "      <td>NaN</td>\n",
              "    </tr>\n",
              "    <tr>\n",
              "      <th>1</th>\n",
              "      <td>t</td>\n",
              "      <td>t</td>\n",
              "      <td>t</td>\n",
              "      <td>NaN</td>\n",
              "      <td>NaN</td>\n",
              "    </tr>\n",
              "    <tr>\n",
              "      <th>2</th>\n",
              "      <td>t</td>\n",
              "      <td>t</td>\n",
              "      <td>t</td>\n",
              "      <td>t</td>\n",
              "      <td>NaN</td>\n",
              "    </tr>\n",
              "    <tr>\n",
              "      <th>3</th>\n",
              "      <td>t</td>\n",
              "      <td>t</td>\n",
              "      <td>NaN</td>\n",
              "      <td>NaN</td>\n",
              "      <td>t</td>\n",
              "    </tr>\n",
              "    <tr>\n",
              "      <th>4</th>\n",
              "      <td>t</td>\n",
              "      <td>NaN</td>\n",
              "      <td>t</td>\n",
              "      <td>NaN</td>\n",
              "      <td>t</td>\n",
              "    </tr>\n",
              "  </tbody>\n",
              "</table>\n",
              "</div>\n",
              "    <div class=\"colab-df-buttons\">\n",
              "\n",
              "  <div class=\"colab-df-container\">\n",
              "    <button class=\"colab-df-convert\" onclick=\"convertToInteractive('df-0aef913c-b376-44b9-a553-c9f94d3b8db8')\"\n",
              "            title=\"Convert this dataframe to an interactive table.\"\n",
              "            style=\"display:none;\">\n",
              "\n",
              "  <svg xmlns=\"http://www.w3.org/2000/svg\" height=\"24px\" viewBox=\"0 -960 960 960\">\n",
              "    <path d=\"M120-120v-720h720v720H120Zm60-500h600v-160H180v160Zm220 220h160v-160H400v160Zm0 220h160v-160H400v160ZM180-400h160v-160H180v160Zm440 0h160v-160H620v160ZM180-180h160v-160H180v160Zm440 0h160v-160H620v160Z\"/>\n",
              "  </svg>\n",
              "    </button>\n",
              "\n",
              "  <style>\n",
              "    .colab-df-container {\n",
              "      display:flex;\n",
              "      gap: 12px;\n",
              "    }\n",
              "\n",
              "    .colab-df-convert {\n",
              "      background-color: #E8F0FE;\n",
              "      border: none;\n",
              "      border-radius: 50%;\n",
              "      cursor: pointer;\n",
              "      display: none;\n",
              "      fill: #1967D2;\n",
              "      height: 32px;\n",
              "      padding: 0 0 0 0;\n",
              "      width: 32px;\n",
              "    }\n",
              "\n",
              "    .colab-df-convert:hover {\n",
              "      background-color: #E2EBFA;\n",
              "      box-shadow: 0px 1px 2px rgba(60, 64, 67, 0.3), 0px 1px 3px 1px rgba(60, 64, 67, 0.15);\n",
              "      fill: #174EA6;\n",
              "    }\n",
              "\n",
              "    .colab-df-buttons div {\n",
              "      margin-bottom: 4px;\n",
              "    }\n",
              "\n",
              "    [theme=dark] .colab-df-convert {\n",
              "      background-color: #3B4455;\n",
              "      fill: #D2E3FC;\n",
              "    }\n",
              "\n",
              "    [theme=dark] .colab-df-convert:hover {\n",
              "      background-color: #434B5C;\n",
              "      box-shadow: 0px 1px 3px 1px rgba(0, 0, 0, 0.15);\n",
              "      filter: drop-shadow(0px 1px 2px rgba(0, 0, 0, 0.3));\n",
              "      fill: #FFFFFF;\n",
              "    }\n",
              "  </style>\n",
              "\n",
              "    <script>\n",
              "      const buttonEl =\n",
              "        document.querySelector('#df-0aef913c-b376-44b9-a553-c9f94d3b8db8 button.colab-df-convert');\n",
              "      buttonEl.style.display =\n",
              "        google.colab.kernel.accessAllowed ? 'block' : 'none';\n",
              "\n",
              "      async function convertToInteractive(key) {\n",
              "        const element = document.querySelector('#df-0aef913c-b376-44b9-a553-c9f94d3b8db8');\n",
              "        const dataTable =\n",
              "          await google.colab.kernel.invokeFunction('convertToInteractive',\n",
              "                                                    [key], {});\n",
              "        if (!dataTable) return;\n",
              "\n",
              "        const docLinkHtml = 'Like what you see? Visit the ' +\n",
              "          '<a target=\"_blank\" href=https://colab.research.google.com/notebooks/data_table.ipynb>data table notebook</a>'\n",
              "          + ' to learn more about interactive tables.';\n",
              "        element.innerHTML = '';\n",
              "        dataTable['output_type'] = 'display_data';\n",
              "        await google.colab.output.renderOutput(dataTable, element);\n",
              "        const docLink = document.createElement('div');\n",
              "        docLink.innerHTML = docLinkHtml;\n",
              "        element.appendChild(docLink);\n",
              "      }\n",
              "    </script>\n",
              "  </div>\n",
              "\n",
              "\n",
              "<div id=\"df-3b1ffc02-ce37-44df-a746-9d82bebf6083\">\n",
              "  <button class=\"colab-df-quickchart\" onclick=\"quickchart('df-3b1ffc02-ce37-44df-a746-9d82bebf6083')\"\n",
              "            title=\"Suggest charts\"\n",
              "            style=\"display:none;\">\n",
              "\n",
              "<svg xmlns=\"http://www.w3.org/2000/svg\" height=\"24px\"viewBox=\"0 0 24 24\"\n",
              "     width=\"24px\">\n",
              "    <g>\n",
              "        <path d=\"M19 3H5c-1.1 0-2 .9-2 2v14c0 1.1.9 2 2 2h14c1.1 0 2-.9 2-2V5c0-1.1-.9-2-2-2zM9 17H7v-7h2v7zm4 0h-2V7h2v10zm4 0h-2v-4h2v4z\"/>\n",
              "    </g>\n",
              "</svg>\n",
              "  </button>\n",
              "\n",
              "<style>\n",
              "  .colab-df-quickchart {\n",
              "      --bg-color: #E8F0FE;\n",
              "      --fill-color: #1967D2;\n",
              "      --hover-bg-color: #E2EBFA;\n",
              "      --hover-fill-color: #174EA6;\n",
              "      --disabled-fill-color: #AAA;\n",
              "      --disabled-bg-color: #DDD;\n",
              "  }\n",
              "\n",
              "  [theme=dark] .colab-df-quickchart {\n",
              "      --bg-color: #3B4455;\n",
              "      --fill-color: #D2E3FC;\n",
              "      --hover-bg-color: #434B5C;\n",
              "      --hover-fill-color: #FFFFFF;\n",
              "      --disabled-bg-color: #3B4455;\n",
              "      --disabled-fill-color: #666;\n",
              "  }\n",
              "\n",
              "  .colab-df-quickchart {\n",
              "    background-color: var(--bg-color);\n",
              "    border: none;\n",
              "    border-radius: 50%;\n",
              "    cursor: pointer;\n",
              "    display: none;\n",
              "    fill: var(--fill-color);\n",
              "    height: 32px;\n",
              "    padding: 0;\n",
              "    width: 32px;\n",
              "  }\n",
              "\n",
              "  .colab-df-quickchart:hover {\n",
              "    background-color: var(--hover-bg-color);\n",
              "    box-shadow: 0 1px 2px rgba(60, 64, 67, 0.3), 0 1px 3px 1px rgba(60, 64, 67, 0.15);\n",
              "    fill: var(--button-hover-fill-color);\n",
              "  }\n",
              "\n",
              "  .colab-df-quickchart-complete:disabled,\n",
              "  .colab-df-quickchart-complete:disabled:hover {\n",
              "    background-color: var(--disabled-bg-color);\n",
              "    fill: var(--disabled-fill-color);\n",
              "    box-shadow: none;\n",
              "  }\n",
              "\n",
              "  .colab-df-spinner {\n",
              "    border: 2px solid var(--fill-color);\n",
              "    border-color: transparent;\n",
              "    border-bottom-color: var(--fill-color);\n",
              "    animation:\n",
              "      spin 1s steps(1) infinite;\n",
              "  }\n",
              "\n",
              "  @keyframes spin {\n",
              "    0% {\n",
              "      border-color: transparent;\n",
              "      border-bottom-color: var(--fill-color);\n",
              "      border-left-color: var(--fill-color);\n",
              "    }\n",
              "    20% {\n",
              "      border-color: transparent;\n",
              "      border-left-color: var(--fill-color);\n",
              "      border-top-color: var(--fill-color);\n",
              "    }\n",
              "    30% {\n",
              "      border-color: transparent;\n",
              "      border-left-color: var(--fill-color);\n",
              "      border-top-color: var(--fill-color);\n",
              "      border-right-color: var(--fill-color);\n",
              "    }\n",
              "    40% {\n",
              "      border-color: transparent;\n",
              "      border-right-color: var(--fill-color);\n",
              "      border-top-color: var(--fill-color);\n",
              "    }\n",
              "    60% {\n",
              "      border-color: transparent;\n",
              "      border-right-color: var(--fill-color);\n",
              "    }\n",
              "    80% {\n",
              "      border-color: transparent;\n",
              "      border-right-color: var(--fill-color);\n",
              "      border-bottom-color: var(--fill-color);\n",
              "    }\n",
              "    90% {\n",
              "      border-color: transparent;\n",
              "      border-bottom-color: var(--fill-color);\n",
              "    }\n",
              "  }\n",
              "</style>\n",
              "\n",
              "  <script>\n",
              "    async function quickchart(key) {\n",
              "      const quickchartButtonEl =\n",
              "        document.querySelector('#' + key + ' button');\n",
              "      quickchartButtonEl.disabled = true;  // To prevent multiple clicks.\n",
              "      quickchartButtonEl.classList.add('colab-df-spinner');\n",
              "      try {\n",
              "        const charts = await google.colab.kernel.invokeFunction(\n",
              "            'suggestCharts', [key], {});\n",
              "      } catch (error) {\n",
              "        console.error('Error during call to suggestCharts:', error);\n",
              "      }\n",
              "      quickchartButtonEl.classList.remove('colab-df-spinner');\n",
              "      quickchartButtonEl.classList.add('colab-df-quickchart-complete');\n",
              "    }\n",
              "    (() => {\n",
              "      let quickchartButtonEl =\n",
              "        document.querySelector('#df-3b1ffc02-ce37-44df-a746-9d82bebf6083 button');\n",
              "      quickchartButtonEl.style.display =\n",
              "        google.colab.kernel.accessAllowed ? 'block' : 'none';\n",
              "    })();\n",
              "  </script>\n",
              "</div>\n",
              "    </div>\n",
              "  </div>\n"
            ],
            "application/vnd.google.colaboratory.intrinsic+json": {
              "type": "dataframe",
              "variable_name": "df",
              "summary": "{\n  \"name\": \"df\",\n  \"rows\": 10,\n  \"fields\": [\n    {\n      \"column\": \"handphone\",\n      \"properties\": {\n        \"dtype\": \"category\",\n        \"samples\": [\n          \"t\"\n        ],\n        \"num_unique_values\": 1,\n        \"semantic_type\": \"\",\n        \"description\": \"\"\n      }\n    },\n    {\n      \"column\": \"laptop\",\n      \"properties\": {\n        \"dtype\": \"category\",\n        \"samples\": [\n          \"t\"\n        ],\n        \"num_unique_values\": 1,\n        \"semantic_type\": \"\",\n        \"description\": \"\"\n      }\n    },\n    {\n      \"column\": \"charger\",\n      \"properties\": {\n        \"dtype\": \"category\",\n        \"samples\": [\n          \"t\"\n        ],\n        \"num_unique_values\": 1,\n        \"semantic_type\": \"\",\n        \"description\": \"\"\n      }\n    },\n    {\n      \"column\": \"powerbank\",\n      \"properties\": {\n        \"dtype\": \"category\",\n        \"samples\": [\n          \"t\"\n        ],\n        \"num_unique_values\": 1,\n        \"semantic_type\": \"\",\n        \"description\": \"\"\n      }\n    },\n    {\n      \"column\": \"tablet\",\n      \"properties\": {\n        \"dtype\": \"category\",\n        \"samples\": [\n          \"t\"\n        ],\n        \"num_unique_values\": 1,\n        \"semantic_type\": \"\",\n        \"description\": \"\"\n      }\n    }\n  ]\n}"
            }
          },
          "metadata": {},
          "execution_count": 8
        }
      ]
    },
    {
      "cell_type": "code",
      "source": [
        "df.shape"
      ],
      "metadata": {
        "colab": {
          "base_uri": "https://localhost:8080/"
        },
        "id": "zwcEgQTxXzFT",
        "outputId": "b727f6ba-575a-4e63-a05c-d8d3bc644e2d"
      },
      "execution_count": null,
      "outputs": [
        {
          "output_type": "execute_result",
          "data": {
            "text/plain": [
              "(10, 5)"
            ]
          },
          "metadata": {},
          "execution_count": 9
        }
      ]
    },
    {
      "cell_type": "markdown",
      "source": [
        "Indexing each item from the header of the data file."
      ],
      "metadata": {
        "id": "N3CFemd3WPWK"
      }
    },
    {
      "cell_type": "code",
      "source": [
        "item_list = list(df.columns)\n",
        "item_dict = dict()\n",
        "\n",
        "for i, item in enumerate(item_list):\n",
        "    item_dict[item] = i + 1\n",
        "\n",
        "item_dict"
      ],
      "metadata": {
        "colab": {
          "base_uri": "https://localhost:8080/"
        },
        "id": "INTqfqXWWODE",
        "outputId": "969752ec-bc60-41f6-90a8-5b62823f1fc1"
      },
      "execution_count": null,
      "outputs": [
        {
          "output_type": "execute_result",
          "data": {
            "text/plain": [
              "{'handphone': 1, 'laptop': 2, 'charger': 3, 'powerbank': 4, 'tablet': 5}"
            ]
          },
          "metadata": {},
          "execution_count": 10
        }
      ]
    },
    {
      "cell_type": "markdown",
      "source": [
        "Extracting the transactions from the data."
      ],
      "metadata": {
        "id": "IVVtt3tAYCdO"
      }
    },
    {
      "cell_type": "code",
      "source": [
        "transactions = list()\n",
        "\n",
        "for i, row in df.iterrows():\n",
        "    transaction = set()\n",
        "\n",
        "    for item in item_dict:\n",
        "        if row[item] == 't':\n",
        "            transaction.add(item_dict[item])\n",
        "    transactions.append(transaction)\n",
        "\n",
        "transactions"
      ],
      "metadata": {
        "colab": {
          "base_uri": "https://localhost:8080/"
        },
        "id": "7DBGr-yHX6tg",
        "outputId": "aeb661ab-fb6e-4287-c1bd-71ba66cd38f8"
      },
      "execution_count": null,
      "outputs": [
        {
          "output_type": "execute_result",
          "data": {
            "text/plain": [
              "[{1, 2},\n",
              " {1, 2, 3},\n",
              " {1, 2, 3, 4},\n",
              " {1, 2, 5},\n",
              " {1, 3, 5},\n",
              " {4, 5},\n",
              " {1, 2, 3, 5},\n",
              " {1, 3},\n",
              " {1, 4},\n",
              " {2, 3, 4}]"
            ]
          },
          "metadata": {},
          "execution_count": 11
        }
      ]
    },
    {
      "cell_type": "markdown",
      "source": [
        "# **Utility Functions**\n",
        "get_support function evaluates the support value for a set given all the transactions."
      ],
      "metadata": {
        "id": "AHJEwEhuYQPu"
      }
    },
    {
      "cell_type": "code",
      "source": [
        "def get_support(transactions, item_set):\n",
        "    match_count = 0\n",
        "    for transaction in transactions:\n",
        "        if item_set.issubset(transaction):\n",
        "            match_count += 1\n",
        "\n",
        "    return float(match_count/len(transactions))"
      ],
      "metadata": {
        "id": "6qkoOnmoZvQV"
      },
      "execution_count": null,
      "outputs": []
    },
    {
      "cell_type": "markdown",
      "source": [
        "self_join performs join based on the last level valid sets. It joins each sets together by performing union and if the length exceeds the current level, it will skip that set."
      ],
      "metadata": {
        "id": "v1rtGD8XZ0mp"
      }
    },
    {
      "cell_type": "code",
      "source": [
        "def self_join(frequent_item_sets_per_level, level):\n",
        "    current_level_candidates = list()\n",
        "    last_level_items = frequent_item_sets_per_level[level - 1]\n",
        "\n",
        "    if len(last_level_items) == 0:\n",
        "        return current_level_candidates\n",
        "\n",
        "    for i in range(len(last_level_items)):\n",
        "        for j in range(i+1, len(last_level_items)):\n",
        "            itemset_i = last_level_items[i][0]\n",
        "            itemset_j = last_level_items[j][0]\n",
        "            union_set = itemset_i.union(itemset_j)\n",
        "\n",
        "            if union_set not in current_level_candidates and len(union_set) == level:\n",
        "                current_level_candidates.append(union_set)\n",
        "\n",
        "    return current_level_candidates"
      ],
      "metadata": {
        "id": "M-EXCWIPZynO"
      },
      "execution_count": null,
      "outputs": []
    },
    {
      "cell_type": "markdown",
      "source": [
        "\n",
        "pruning function prunes the candidate sets evaluated after completing the self-join part. For each itemset, it finds all its subsets by dropping a single elements from it and checks if that subset was present in the previous level or not. If that subset was not present in the previous level, then the current set is not valid and must not be used, and is thus pruned."
      ],
      "metadata": {
        "id": "dGsaBnIwaUoK"
      }
    },
    {
      "cell_type": "code",
      "source": [
        "def get_single_drop_subsets(item_set):\n",
        "    single_drop_subsets = list()\n",
        "    for item in item_set:\n",
        "        temp = item_set.copy()\n",
        "        temp.remove(item)\n",
        "        single_drop_subsets.append(temp)\n",
        "\n",
        "    return single_drop_subsets\n",
        "\n",
        "def is_valid_set(item_set, prev_level_sets):\n",
        "    single_drop_subsets = get_single_drop_subsets(item_set)\n",
        "\n",
        "    for single_drop_set in single_drop_subsets:\n",
        "        if single_drop_set not in prev_level_sets:\n",
        "            return False\n",
        "    return True\n",
        "\n",
        "def pruning(frequent_item_sets_per_level, level, candidate_set):\n",
        "    post_pruning_set = list()\n",
        "    if len(candidate_set) == 0:\n",
        "        return post_pruning_set\n",
        "\n",
        "    prev_level_sets = list()\n",
        "    for item_set, _ in frequent_item_sets_per_level[level - 1]:\n",
        "        prev_level_sets.append(item_set)\n",
        "\n",
        "    for item_set in candidate_set:\n",
        "        if is_valid_set(item_set, prev_level_sets):\n",
        "            post_pruning_set.append(item_set)\n",
        "\n",
        "    return post_pruning_set"
      ],
      "metadata": {
        "id": "l3tRhqsBUu29"
      },
      "execution_count": null,
      "outputs": []
    },
    {
      "cell_type": "markdown",
      "source": [
        "# **Apriori Algorithm**"
      ],
      "metadata": {
        "id": "w3raupkTUzZC"
      }
    },
    {
      "cell_type": "code",
      "source": [
        "from collections import defaultdict\n",
        "\n",
        "def apriori(min_support):\n",
        "    frequent_item_sets_per_level = defaultdict(list)\n",
        "    print(\"level : 1\", end = \" \")\n",
        "\n",
        "    for item in range(1, len(item_list) + 1):\n",
        "        support = get_support(transactions, {item})\n",
        "        if support >= min_support:\n",
        "            frequent_item_sets_per_level[1].append(({item}, support))\n",
        "\n",
        "    for level in range(2, len(item_list) + 1):\n",
        "        print(level, end = \" \")\n",
        "        current_level_candidates = self_join(frequent_item_sets_per_level, level)\n",
        "\n",
        "        post_pruning_candidates = pruning(frequent_item_sets_per_level, level, current_level_candidates)\n",
        "        if len(post_pruning_candidates) == 0:\n",
        "            break\n",
        "\n",
        "        for item_set in post_pruning_candidates:\n",
        "            support = get_support(transactions, item_set)\n",
        "            if support >= min_support:\n",
        "                frequent_item_sets_per_level[level].append((item_set, support))\n",
        "\n",
        "    return frequent_item_sets_per_level"
      ],
      "metadata": {
        "id": "pxShtXTuU3U9"
      },
      "execution_count": null,
      "outputs": []
    },
    {
      "cell_type": "markdown",
      "source": [
        "Specify the minimum support value here"
      ],
      "metadata": {
        "id": "QwbWnIF1VFTC"
      }
    },
    {
      "cell_type": "code",
      "source": [
        "min_support = 0.005\n",
        "frequent_item_sets_per_level = apriori(min_support)"
      ],
      "metadata": {
        "colab": {
          "base_uri": "https://localhost:8080/"
        },
        "id": "MJZZtuNMU96A",
        "outputId": "7d3e24fd-7cf6-44be-f135-4c64be7d65f8"
      },
      "execution_count": null,
      "outputs": [
        {
          "output_type": "stream",
          "name": "stdout",
          "text": [
            "level : 1 2 3 4 5 "
          ]
        }
      ]
    },
    {
      "cell_type": "markdown",
      "source": [
        "Debug print statements to check the number of frequent sets calculated for each level."
      ],
      "metadata": {
        "id": "KI9ucxSjVX4K"
      }
    },
    {
      "cell_type": "code",
      "source": [
        "for level in frequent_item_sets_per_level:\n",
        "    print(len(frequent_item_sets_per_level[level]))"
      ],
      "metadata": {
        "colab": {
          "base_uri": "https://localhost:8080/"
        },
        "id": "-3Mk8PBWVYqA",
        "outputId": "789f1095-178f-4a83-ca0c-badbbeae75e8"
      },
      "execution_count": null,
      "outputs": [
        {
          "output_type": "stream",
          "name": "stdout",
          "text": [
            "5\n",
            "10\n",
            "7\n",
            "2\n"
          ]
        }
      ]
    },
    {
      "cell_type": "markdown",
      "source": [
        "Debug statement to check the frequent sets calculated."
      ],
      "metadata": {
        "id": "fhFfcgncVf4M"
      }
    },
    {
      "cell_type": "code",
      "source": [
        "for level in frequent_item_sets_per_level:\n",
        "    print(frequent_item_sets_per_level[level])"
      ],
      "metadata": {
        "colab": {
          "base_uri": "https://localhost:8080/"
        },
        "id": "Tf7wcjYkVdBL",
        "outputId": "f628e9c7-b270-4543-ae55-fe27bc97fc39"
      },
      "execution_count": null,
      "outputs": [
        {
          "output_type": "stream",
          "name": "stdout",
          "text": [
            "[({1}, 0.8), ({2}, 0.6), ({3}, 0.6), ({4}, 0.4), ({5}, 0.4)]\n",
            "[({1, 2}, 0.5), ({1, 3}, 0.5), ({1, 4}, 0.2), ({1, 5}, 0.3), ({2, 3}, 0.4), ({2, 4}, 0.2), ({2, 5}, 0.2), ({3, 4}, 0.2), ({3, 5}, 0.2), ({4, 5}, 0.1)]\n",
            "[({1, 2, 3}, 0.3), ({1, 2, 4}, 0.1), ({1, 2, 5}, 0.2), ({1, 3, 4}, 0.1), ({1, 3, 5}, 0.2), ({2, 3, 4}, 0.2), ({2, 3, 5}, 0.1)]\n",
            "[({1, 2, 3, 4}, 0.1), ({1, 2, 3, 5}, 0.1)]\n"
          ]
        }
      ]
    },
    {
      "cell_type": "markdown",
      "source": [
        "\n",
        "# **Generating Association Rules**"
      ],
      "metadata": {
        "id": "bC2nD4UkVlOh"
      }
    },
    {
      "cell_type": "markdown",
      "source": [
        "Prepare input for calculating association rules: Create a dictionary of each frequent itemset against its support value."
      ],
      "metadata": {
        "id": "78D6hSyrVtfT"
      }
    },
    {
      "cell_type": "code",
      "source": [
        "item_support_dict = dict()\n",
        "item_list = list()\n",
        "\n",
        "key_list = list(item_dict.keys())\n",
        "val_list = list(item_dict.values())\n",
        "\n",
        "for level in frequent_item_sets_per_level:\n",
        "    for set_support_pair in frequent_item_sets_per_level[level]:\n",
        "        for i in set_support_pair[0]:\n",
        "            item_list.append(key_list[val_list.index(i)])\n",
        "        item_support_dict[frozenset(item_list)] = set_support_pair[1]\n",
        "        item_list = list()"
      ],
      "metadata": {
        "id": "CfDyrUn0Vpgg"
      },
      "execution_count": null,
      "outputs": []
    },
    {
      "cell_type": "markdown",
      "source": [
        "Debug statement to check the values in the dictionary created."
      ],
      "metadata": {
        "id": "Mb48TspUV0pN"
      }
    },
    {
      "cell_type": "code",
      "source": [
        "item_support_dict"
      ],
      "metadata": {
        "colab": {
          "base_uri": "https://localhost:8080/"
        },
        "id": "_ux9gBUCV1qm",
        "outputId": "7ea66689-a76f-4b57-ca28-90670a1dab01"
      },
      "execution_count": null,
      "outputs": [
        {
          "output_type": "execute_result",
          "data": {
            "text/plain": [
              "{frozenset({'handphone'}): 0.8,\n",
              " frozenset({'laptop'}): 0.6,\n",
              " frozenset({'charger'}): 0.6,\n",
              " frozenset({'powerbank'}): 0.4,\n",
              " frozenset({'tablet'}): 0.4,\n",
              " frozenset({'handphone', 'laptop'}): 0.5,\n",
              " frozenset({'charger', 'handphone'}): 0.5,\n",
              " frozenset({'handphone', 'powerbank'}): 0.2,\n",
              " frozenset({'handphone', 'tablet'}): 0.3,\n",
              " frozenset({'charger', 'laptop'}): 0.4,\n",
              " frozenset({'laptop', 'powerbank'}): 0.2,\n",
              " frozenset({'laptop', 'tablet'}): 0.2,\n",
              " frozenset({'charger', 'powerbank'}): 0.2,\n",
              " frozenset({'charger', 'tablet'}): 0.2,\n",
              " frozenset({'powerbank', 'tablet'}): 0.1,\n",
              " frozenset({'charger', 'handphone', 'laptop'}): 0.3,\n",
              " frozenset({'handphone', 'laptop', 'powerbank'}): 0.1,\n",
              " frozenset({'handphone', 'laptop', 'tablet'}): 0.2,\n",
              " frozenset({'charger', 'handphone', 'powerbank'}): 0.1,\n",
              " frozenset({'charger', 'handphone', 'tablet'}): 0.2,\n",
              " frozenset({'charger', 'laptop', 'powerbank'}): 0.2,\n",
              " frozenset({'charger', 'laptop', 'tablet'}): 0.1,\n",
              " frozenset({'charger', 'handphone', 'laptop', 'powerbank'}): 0.1,\n",
              " frozenset({'charger', 'handphone', 'laptop', 'tablet'}): 0.1}"
            ]
          },
          "metadata": {},
          "execution_count": 21
        }
      ]
    },
    {
      "cell_type": "markdown",
      "source": [
        "# **Utility Function**"
      ],
      "metadata": {
        "id": "x6JO9JUFV_Hc"
      }
    },
    {
      "cell_type": "markdown",
      "source": [
        "find_subset finds all the subsets of the given itemset."
      ],
      "metadata": {
        "id": "XEuUHjq0WBN4"
      }
    },
    {
      "cell_type": "code",
      "source": [
        "def find_subset(item, item_length):\n",
        "    combs = []\n",
        "    for i in range(1, item_length + 1):\n",
        "        combs.append(list(combinations(item, i)))\n",
        "\n",
        "    subsets = []\n",
        "    for comb in combs:\n",
        "        for elt in comb:\n",
        "            subsets.append(elt)\n",
        "\n",
        "    return subsets"
      ],
      "metadata": {
        "id": "gkid0CY8WEGw"
      },
      "execution_count": null,
      "outputs": []
    },
    {
      "cell_type": "markdown",
      "source": [
        "association_rules generates the association rules in accordance with the given minimum confidence value and the provided dictionary of itemsets against their support values. For itemsets of more than one element, it first finds all their subsets. For every subset A, it calculates the set B = itemset-A. If B is not empty, the confidence of B is calculated. If this value is more than minimum confidence value, the rule A->B is added to the list."
      ],
      "metadata": {
        "id": "Z_hCbztMWJ6T"
      }
    },
    {
      "cell_type": "code",
      "source": [
        "def association_rules(min_confidence, support_dict):\n",
        "    rules = list()\n",
        "    for item, support in support_dict.items():\n",
        "        item_length = len(item)\n",
        "\n",
        "        if item_length > 1:\n",
        "            subsets = find_subset(item, item_length)\n",
        "\n",
        "            for A in subsets:\n",
        "                B = item.difference(A)\n",
        "\n",
        "                if B:\n",
        "                    A = frozenset(A)\n",
        "\n",
        "                    AB = A | B\n",
        "\n",
        "                    confidence = support_dict[AB] / support_dict[A]\n",
        "                    if confidence >= min_confidence:\n",
        "                        rules.append((A, B, confidence))\n",
        "\n",
        "    return rules"
      ],
      "metadata": {
        "id": "59x1HBdaWKyo"
      },
      "execution_count": null,
      "outputs": []
    },
    {
      "cell_type": "markdown",
      "source": [
        "# **Specify Minimum confidence value here**"
      ],
      "metadata": {
        "id": "m3MkpaXUWS1O"
      }
    },
    {
      "cell_type": "code",
      "source": [
        "association_rules = association_rules(min_confidence = 0.6, support_dict = item_support_dict)"
      ],
      "metadata": {
        "id": "yWBLMozjWaKB"
      },
      "execution_count": null,
      "outputs": []
    },
    {
      "cell_type": "markdown",
      "source": [
        "\n",
        "# **Printing the output in the required format**"
      ],
      "metadata": {
        "id": "I4cDlDH-WWCE"
      }
    },
    {
      "cell_type": "code",
      "source": [
        "print(\"Number of rules: \", len(association_rules), \"\\n\")\n",
        "\n",
        "for rule in association_rules:\n",
        "    print('{0} -> {1} <confidence: {2}>'.format(set(rule[0]), set(rule[1]), rule[2]))"
      ],
      "metadata": {
        "colab": {
          "base_uri": "https://localhost:8080/"
        },
        "id": "KCy8Tdn6WeD5",
        "outputId": "95620aa1-26d7-45ef-cafb-a2dbf938ca84"
      },
      "execution_count": null,
      "outputs": [
        {
          "output_type": "stream",
          "name": "stdout",
          "text": [
            "Number of rules:  19 \n",
            "\n",
            "{'handphone'} -> {'laptop'} <confidence: 0.625>\n",
            "{'laptop'} -> {'handphone'} <confidence: 0.8333333333333334>\n",
            "{'handphone'} -> {'charger'} <confidence: 0.625>\n",
            "{'charger'} -> {'handphone'} <confidence: 0.8333333333333334>\n",
            "{'tablet'} -> {'handphone'} <confidence: 0.7499999999999999>\n",
            "{'charger'} -> {'laptop'} <confidence: 0.6666666666666667>\n",
            "{'laptop'} -> {'charger'} <confidence: 0.6666666666666667>\n",
            "{'handphone', 'charger'} -> {'laptop'} <confidence: 0.6>\n",
            "{'handphone', 'laptop'} -> {'charger'} <confidence: 0.6>\n",
            "{'charger', 'laptop'} -> {'handphone'} <confidence: 0.7499999999999999>\n",
            "{'handphone', 'tablet'} -> {'laptop'} <confidence: 0.6666666666666667>\n",
            "{'tablet', 'laptop'} -> {'handphone'} <confidence: 1.0>\n",
            "{'handphone', 'tablet'} -> {'charger'} <confidence: 0.6666666666666667>\n",
            "{'charger', 'tablet'} -> {'handphone'} <confidence: 1.0>\n",
            "{'powerbank', 'charger'} -> {'laptop'} <confidence: 1.0>\n",
            "{'powerbank', 'laptop'} -> {'charger'} <confidence: 1.0>\n",
            "{'powerbank', 'handphone', 'charger'} -> {'laptop'} <confidence: 1.0>\n",
            "{'powerbank', 'handphone', 'laptop'} -> {'charger'} <confidence: 1.0>\n",
            "{'charger', 'tablet', 'laptop'} -> {'handphone'} <confidence: 1.0>\n"
          ]
        }
      ]
    }
  ]
}